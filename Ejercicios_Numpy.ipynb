{
  "nbformat": 4,
  "nbformat_minor": 0,
  "metadata": {
    "colab": {
      "provenance": [],
      "mount_file_id": "1AdmD3AwsU1ffwwEcTCfXGmih_Iz_hHiv",
      "authorship_tag": "ABX9TyOAQ2XkNm8eoVdXqnLAd4Io",
      "include_colab_link": true
    },
    "kernelspec": {
      "name": "python3",
      "display_name": "Python 3"
    },
    "language_info": {
      "name": "python"
    }
  },
  "cells": [
    {
      "cell_type": "markdown",
      "metadata": {
        "id": "view-in-github",
        "colab_type": "text"
      },
      "source": [
        "<a href=\"https://colab.research.google.com/github/Gameto2025/7-diias-de-desafios/blob/main/Ejercicios_Numpy.ipynb\" target=\"_parent\"><img src=\"https://colab.research.google.com/assets/colab-badge.svg\" alt=\"Open In Colab\"/></a>"
      ]
    },
    {
      "cell_type": "markdown",
      "source": [
        "Ha llegado el momento de poner a prueba los conocimientos adquiridos durante la lección. Continuando con el proyecto de las naranjas/toronjas, ahora debes seleccionar parte de los datos. Las columnas que evaluaremos son el diámetro y el peso. Crea arrays específicos para almacenar el diámetro y el peso de la naranja y la toronja. El diámetro está en la columna cero y el peso en la columna uno. Los datos de las naranjas van hasta la fila 4999 y los datos de las toronjas comienzan en la fila 5000 del archivo.\n",
        "\n",
        "Después de seleccionar los datos, importa la biblioteca matplotlib y crea un gráfico para el peso en función del diámetro tanto para las naranjas como para las toronjas."
      ],
      "metadata": {
        "id": "Ubm1z6mhNOD0"
      }
    },
    {
      "cell_type": "markdown",
      "source": [
        "Selección de datos:\n",
        "\n",
        "diametro_naranja = dato[:5000, 0]\n",
        "diametro_toronja = dato[5000:, 0]\n",
        "peso_naranja = dato[:5000, 1]\n",
        "peso_toronja = dato[5000:, 1]\n",
        "\n",
        "Visualización:\n",
        "\n",
        "import matplotlib.pyplot as plt\n",
        "\n",
        "plt.plot(diametro_naranja, peso_naranja)\n",
        "plt.plot(diametro_toronja, peso_toronja)"
      ],
      "metadata": {
        "id": "Rx8eZYGSUJrM"
      }
    },
    {
      "cell_type": "code",
      "source": [
        "import numpy as np\n",
        "\n",
        "url = 'https://gist.githubusercontent.com/ahcamachod/9be09de793dc3bf1e6c3d98eb4e5b1ef/raw/21b85572693200040e11284ef6dcfc3457ec8e11/citrus.csv'\n",
        "\n",
        "dato = np.loadtxt(url, delimiter=',',usecols= np.arange(1,6,1), skiprows=1,)\n",
        "\n",
        "dato"
      ],
      "metadata": {
        "colab": {
          "base_uri": "https://localhost:8080/"
        },
        "id": "ysIFK8-_M1Cf",
        "outputId": "f7125e9a-679f-490e-9215-d57eb7827dd2"
      },
      "execution_count": null,
      "outputs": [
        {
          "output_type": "execute_result",
          "data": {
            "text/plain": [
              "array([[  2.96,  86.76, 172.  ,  85.  ,   2.  ],\n",
              "       [  3.91,  88.05, 166.  ,  78.  ,   3.  ],\n",
              "       [  4.42,  95.17, 156.  ,  81.  ,   2.  ],\n",
              "       ...,\n",
              "       [ 15.59, 256.5 , 168.  ,  82.  ,  20.  ],\n",
              "       [ 15.92, 260.14, 142.  ,  72.  ,  11.  ],\n",
              "       [ 16.45, 261.51, 152.  ,  74.  ,   2.  ]])"
            ]
          },
          "metadata": {},
          "execution_count": 18
        }
      ]
    },
    {
      "cell_type": "code",
      "source": [
        "dato.shape"
      ],
      "metadata": {
        "colab": {
          "base_uri": "https://localhost:8080/"
        },
        "id": "4a2tVlisPaUX",
        "outputId": "3e97e05d-5a70-423f-8318-5c95338a512b"
      },
      "execution_count": null,
      "outputs": [
        {
          "output_type": "execute_result",
          "data": {
            "text/plain": [
              "(10000, 4)"
            ]
          },
          "metadata": {},
          "execution_count": 5
        }
      ]
    },
    {
      "cell_type": "code",
      "source": [
        "dato.ndim"
      ],
      "metadata": {
        "colab": {
          "base_uri": "https://localhost:8080/"
        },
        "id": "qZ_FoDhvP_J5",
        "outputId": "44c49f4b-bfbe-4e00-f31b-ef4a44692bd0"
      },
      "execution_count": null,
      "outputs": [
        {
          "output_type": "execute_result",
          "data": {
            "text/plain": [
              "2"
            ]
          },
          "metadata": {},
          "execution_count": 6
        }
      ]
    },
    {
      "cell_type": "code",
      "source": [
        "dato.T"
      ],
      "metadata": {
        "colab": {
          "base_uri": "https://localhost:8080/"
        },
        "id": "MDz9kuwkQBvz",
        "outputId": "54ba0c8f-a6f5-41a1-902f-1196a7394e5d"
      },
      "execution_count": null,
      "outputs": [
        {
          "output_type": "execute_result",
          "data": {
            "text/plain": [
              "array([[  2.96,   3.91,   4.42, ...,  15.59,  15.92,  16.45],\n",
              "       [ 86.76,  88.05,  95.17, ..., 256.5 , 260.14, 261.51],\n",
              "       [172.  , 166.  , 156.  , ..., 168.  , 142.  , 152.  ],\n",
              "       [ 85.  ,  78.  ,  81.  , ...,  82.  ,  72.  ,  74.  ]])"
            ]
          },
          "metadata": {},
          "execution_count": 7
        }
      ]
    },
    {
      "cell_type": "code",
      "source": [
        "np.isnan(dato)"
      ],
      "metadata": {
        "colab": {
          "base_uri": "https://localhost:8080/"
        },
        "id": "KiyjFNxKQkdM",
        "outputId": "86fdf846-f960-4012-e13d-3f1b8d6cc1e8"
      },
      "execution_count": null,
      "outputs": [
        {
          "output_type": "execute_result",
          "data": {
            "text/plain": [
              "array([[False, False, False, False],\n",
              "       [False, False, False, False],\n",
              "       [False, False, False, False],\n",
              "       ...,\n",
              "       [False, False, False, False],\n",
              "       [False, False, False, False],\n",
              "       [False, False, False, False]])"
            ]
          },
          "metadata": {},
          "execution_count": 8
        }
      ]
    },
    {
      "cell_type": "code",
      "source": [
        "np.sum(np.isnan(dato))"
      ],
      "metadata": {
        "colab": {
          "base_uri": "https://localhost:8080/"
        },
        "id": "m2nsyNDMQuGt",
        "outputId": "13ddf9b4-8037-4edb-bece-7ef99d0520e9"
      },
      "execution_count": null,
      "outputs": [
        {
          "output_type": "execute_result",
          "data": {
            "text/plain": [
              "np.int64(0)"
            ]
          },
          "metadata": {},
          "execution_count": 9
        }
      ]
    },
    {
      "cell_type": "code",
      "execution_count": null,
      "metadata": {
        "id": "cSniXV79M-Ty",
        "colab": {
          "base_uri": "https://localhost:8080/",
          "height": 565
        },
        "outputId": "ee8db9db-0a4f-48de-a88e-d6e2f4ac5b30"
      },
      "outputs": [
        {
          "output_type": "display_data",
          "data": {
            "text/plain": [
              "<Figure size 1000x600 with 1 Axes>"
            ],
            "image/png": "[encoded data removed]"
          },
          "metadata": {}
        }
      ],
      "source": [
        "import numpy as np\n",
        "import matplotlib.pyplot as plt\n",
        "\n",
        "url = 'https://gist.githubusercontent.com/ahcamachod/9be09de793dc3bf1e6c3d98eb4e5b1ef/raw/21b85572693200040e11284ef6dcfc3457ec8e11/citrus.csv'\n",
        "\n",
        "dato = np.loadtxt(url, delimiter=',',usecols= np.arange(1,6,1), skiprows=1,)\n",
        "\n",
        "# Seleccionar los datos de las naranjas (hasta la fila 4999)\n",
        "naranja_diametro = dato[:5000, 0]\n",
        "naranja_peso = dato[:5000, 1]\n",
        "\n",
        "# Seleccionar los datos de las toronjas (desde la fila 5000)\n",
        "toronja_diametro = dato[5000:, 0]\n",
        "toronja_peso = dato[5000:, 1]\n",
        "\n",
        "# Crear el gráfico\n",
        "plt.figure(figsize=(10, 6))  # Ajustar el tamaño del gráfico\n",
        "\n",
        "plt.scatter(naranja_diametro, naranja_peso, color='orange', label='Naranjas', s=10)\n",
        "plt.scatter(toronja_diametro, toronja_peso, color='green', label='Toronjas', s=10)\n",
        "\n",
        "plt.xlabel('Diámetro (cm)')\n",
        "plt.ylabel('Peso (g)')\n",
        "plt.title('Peso en función del Diámetro de Naranjas y Toronjas')\n",
        "plt.legend()\n",
        "plt.grid(True)\n",
        "plt.show()"
      ]
    },
    {
      "cell_type": "markdown",
      "source": [
        "Ha llegado el momento de poner a prueba los conocimientos adquiridos durante la lección. Continuando con el proyecto de las naranjas/toronjas, ahora debes calcular el coeficiente angular y lineal para la recta de las naranjas y para la recta de las toronjas. Utiliza la fórmula de mínimos cuadrados para encontrar cada uno."
      ],
      "metadata": {
        "id": "9tQVnmH0eyWA"
      }
    },
    {
      "cell_type": "markdown",
      "source": [
        "Para llevar a cabo esta etapa, puedes seguir los siguientes pasos:\n",
        "\n",
        "**Coeficientes para las naranjas:**\n",
        "\n",
        "Y = peso_naranja\n",
        "X = diametro_naranja\n",
        "n = np.size(X)\n",
        "\n",
        "a = (n*np.sum(X*Y) - np.sum(X)*np.sum(Y))/(n*np.sum(X**2)-np.sum(X)**2)\n",
        "\n",
        "b = np.mean(Y) - a*np.mean(X)"
      ],
      "metadata": {
        "id": "QPnzN1vpU9-6"
      }
    },
    {
      "cell_type": "code",
      "source": [
        "import numpy as np\n",
        "\n",
        "url = 'https://gist.githubusercontent.com/ahcamachod/9be09de793dc3bf1e6c3d98eb4e5b1ef/raw/21b85572693200040e11284ef6dcfc3457ec8e11/citrus.csv'\n",
        "\n",
        "dato = np.loadtxt(url, delimiter=',',usecols= np.arange(1,6,1), skiprows=1,)"
      ],
      "metadata": {
        "id": "pl4KYB3DRObF"
      },
      "execution_count": null,
      "outputs": []
    },
    {
      "cell_type": "code",
      "source": [
        "#Calculo del coeficiente ngular(a= pendiente de la recta)y coeficiente lineal(b= interseccion de y con x)\n",
        "\n",
        "import numpy as np\n",
        "\n",
        "# Datos de las naranjas\n",
        "x = dato[:5000, 0]\n",
        "y = dato[:5000, 1]\n",
        "n = np.size(naranja_diametro)\n",
        "\n",
        "# Calcular coeficiente angular (a) y lineal (b) para las naranjas\n",
        "a_naranja = (n * np.sum(x * y) - np.sum(x) * np.sum(y)) / (n * np.sum(x**2) - np.sum(x)**2)\n",
        "b_naranja = np.mean(y) - a_naranja * np.mean(x)\n",
        "\n",
        "print(\"--- Recta de las Naranjas (usando fórmulas directas) ---\")\n",
        "print(f\"Coeficiente Angular (a): {a_naranja:.4f}\")\n",
        "print(f\"Coeficiente Lineal (b): {b_naranja:.4f}\")\n",
        "\n",
        "# Datos de las toronjas\n",
        "toronja_diametro = dato[5000:, 0]\n",
        "toronja_peso = dato[5000:, 1]\n",
        "n_toronjas = np.size(toronja_diametro)\n",
        "\n",
        "# Calcular coeficiente angular (a) y lineal (b) para las toronjas\n",
        "a_toronja = (n_toronjas * np.sum(toronja_diametro * toronja_peso) - np.sum(toronja_diametro) * np.sum(toronja_peso)) / (n_toronjas * np.sum(toronja_diametro**2) - np.sum(toronja_diametro)**2)\n",
        "b_toronja = np.mean(toronja_peso) - a_toronja * np.mean(toronja_diametro)\n",
        "\n",
        "print(\"\\n--- Recta de las Toronjas (usando fórmulas directas) ---\")\n",
        "print(f\"Coeficiente Angular (a): {a_toronja:.4f}\")\n",
        "print(f\"Coeficiente Lineal (b): {b_toronja:.4f}\")"
      ],
      "metadata": {
        "id": "77IiRCaOnA2J",
        "outputId": "23bdb6a5-a37f-4a90-ff8f-89a125cb032a",
        "colab": {
          "base_uri": "https://localhost:8080/"
        }
      },
      "execution_count": null,
      "outputs": [
        {
          "output_type": "stream",
          "name": "stdout",
          "text": [
            "--- Recta de las Naranjas (usando fórmulas directas) ---\n",
            "Coeficiente Angular (a): 14.7997\n",
            "Coeficiente Lineal (b): 27.3856\n",
            "\n",
            "--- Recta de las Toronjas (usando fórmulas directas) ---\n",
            "Coeficiente Angular (a): 15.7088\n",
            "Coeficiente Lineal (b): 17.0071\n"
          ]
        }
      ]
    },
    {
      "cell_type": "markdown",
      "source": [],
      "metadata": {
        "id": "GUtsre9MZIBy"
      }
    }
  ]
}